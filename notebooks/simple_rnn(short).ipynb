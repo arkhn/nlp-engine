{
 "cells": [
  {
   "cell_type": "code",
   "execution_count": 1,
   "metadata": {},
   "outputs": [],
   "source": [
    "import os\n",
    "import sys\n",
    "import glob\n",
    "sys.path.append('..') #Adding the parent folder to import files from there"
   ]
  },
  {
   "cell_type": "code",
   "execution_count": 2,
   "metadata": {},
   "outputs": [],
   "source": [
    "import engine.loader as loader\n",
    "import engine.models.rnn as rnn\n",
    "from ipywidgets import FloatProgress"
   ]
  },
  {
   "cell_type": "code",
   "execution_count": 3,
   "metadata": {},
   "outputs": [],
   "source": [
    "source = [\n",
    "    ('firstname', 'firstnames.firstname', 100),\n",
    "    \n",
    "    ('name', 'names.name', 100),\n",
    "    \n",
    "    ('code', 'patients.gender', 10),\n",
    "    ('code', 'admissions.marital_status', 10),\n",
    "    ('code', 'admissions.religion', 10),\n",
    "    ('code', 'admissions.insurance', 10),\n",
    "    ('code', 'admissions.admission_location', 10),\n",
    "    ('code', 'prescriptions.drug_type', 30),\n",
    "    ('code', 'prescriptions.dose_unit_rx', 20),\n",
    "    \n",
    "    ('date', 'prescriptions.startdate', 90),\n",
    "    ('date', 'admissions.admittime', 10),\n",
    "    \n",
    "    ('id', 'admissions.hadm_id', 10),\n",
    "    ('id', 'admissions.subject_id', 10),\n",
    "    ('id', 'prescriptions.subject_id', 80),\n",
    "    \n",
    "    ('address', 'addresses.road', 100),\n",
    "    \n",
    "    ('city', 'addresses.city', 100)\n",
    "]"
   ]
  },
  {
   "cell_type": "code",
   "execution_count": 4,
   "metadata": {},
   "outputs": [],
   "source": [
    "dataset = []\n",
    "labels = []\n",
    "for column in source:\n",
    "    if len(column) >= 3:\n",
    "        label, column_name, nb_datasets = column\n",
    "    else:\n",
    "        label, column_name, nb_datasets = column, 1\n",
    "    dataset.append((column_name, nb_datasets))\n",
    "    labels += [label.upper()] * nb_datasets"
   ]
  },
  {
   "cell_type": "code",
   "execution_count": 5,
   "metadata": {},
   "outputs": [
    {
     "data": {
      "application/vnd.jupyter.widget-view+json": {
       "model_id": "1e3a32198a824b9e9264927098275be2",
       "version_major": 2,
       "version_minor": 0
      },
      "text/html": [
       "<p>Failed to display Jupyter Widget of type <code>FloatProgress</code>.</p>\n",
       "<p>\n",
       "  If you're reading this message in the Jupyter Notebook or JupyterLab Notebook, it may mean\n",
       "  that the widgets JavaScript is still loading. If this message persists, it\n",
       "  likely means that the widgets JavaScript library is either not installed or\n",
       "  not enabled. See the <a href=\"https://ipywidgets.readthedocs.io/en/stable/user_install.html\">Jupyter\n",
       "  Widgets Documentation</a> for setup instructions.\n",
       "</p>\n",
       "<p>\n",
       "  If you're reading this message in another frontend (for example, a static\n",
       "  rendering on GitHub or <a href=\"https://nbviewer.jupyter.org/\">NBViewer</a>),\n",
       "  it may mean that your frontend doesn't currently support widgets.\n",
       "</p>\n"
      ],
      "text/plain": [
       "FloatProgress(value=0.0, max=700.0)"
      ]
     },
     "metadata": {},
     "output_type": "display_data"
    },
    {
     "name": "stdout",
     "output_type": "stream",
     "text": [
      "CPU times: user 1.77 s, sys: 278 ms, total: 2.04 s\n",
      "Wall time: 3.95 s\n"
     ]
    }
   ],
   "source": [
    "%%time\n",
    "\n",
    "max_value = len(labels)\n",
    "bar = FloatProgress(min=0, max=max_value)\n",
    "display(bar)\n",
    "\n",
    "columns = loader.fetch_columns(dataset, dataset_size=100, load_bar=bar)"
   ]
  },
  {
   "cell_type": "code",
   "execution_count": 6,
   "metadata": {},
   "outputs": [],
   "source": [
    "clf = rnn.RNNClassifier(rnn.RNN, 128)\n",
    "X_train, y_train, X_test, y_test = clf.preprocess(columns, labels)"
   ]
  },
  {
   "cell_type": "code",
   "execution_count": 7,
   "metadata": {},
   "outputs": [
    {
     "name": "stdout",
     "output_type": "stream",
     "text": [
      "1000 10% (0m 2s) 1.9610 2112-02-08t00:00:00 / ID ✗ (DATE)\n",
      "2000 20% (0m 5s) 1.8425 40277 / ID ✓\n",
      "3000 30% (0m 9s) 1.9735 evy / CITY ✗ (FIRSTNAME)\n",
      "4000 40% (0m 12s) 1.9836 lagravere / ADDRESS ✗ (NAME)\n",
      "5000 50% (0m 15s) 1.8492 rue de la clef des champs / ADDRESS ✓\n",
      "6000 60% (0m 17s) 1.9684 2127-10-16t00:00:00 / ID ✗ (DATE)\n",
      "7000 70% (0m 20s) 2.0045 fagart / ADDRESS ✗ (NAME)\n",
      "8000 80% (0m 23s) 1.9965 2119-11-10t00:00:00 / ID ✗ (DATE)\n",
      "9000 90% (0m 26s) 2.0493 rosita / ADDRESS ✗ (FIRSTNAME)\n",
      "10000 100% (0m 29s) 1.6809 pagny-sur-moselle / ADDRESS ✗ (CITY)\n",
      "CPU times: user 29.3 s, sys: 401 ms, total: 29.7 s\n",
      "Wall time: 30.1 s\n"
     ]
    }
   ],
   "source": [
    "%%time\n",
    "\n",
    "clf.fit(X_train, y_train)"
   ]
  },
  {
   "cell_type": "code",
   "execution_count": 8,
   "metadata": {},
   "outputs": [
    {
     "name": "stdout",
     "output_type": "stream",
     "text": [
      "FIRSTNAME           \t0/23\t   0.0% \t(FP:0)\n",
      "NAME                \t0/18\t   0.0% \t(FP:0)\n",
      "CODE                \t0/17\t   0.0% \t(FP:0)\n",
      "DATE                \t0/15\t   0.0% \t(FP:0)\n",
      "ID                  \t27/27\t   100.0% \t(FP:15)\n",
      "ADDRESS             \t25/25\t   100.0% \t(FP:50)\n",
      "CITY                \t0/15\t   0.0% \t(FP:23)\n",
      "SCORE 52/140 :   37.14%\n"
     ]
    }
   ],
   "source": [
    "y_pred = clf.predict(X_test, sampling=0.4)\n",
    "clf.score(y_pred, y_test)"
   ]
  },
  {
   "cell_type": "code",
   "execution_count": 9,
   "metadata": {},
   "outputs": [
    {
     "data": {
      "image/png": "[encoded data removed]",
      "text/plain": [
       "<matplotlib.figure.Figure at 0x1a2526c5c0>"
      ]
     },
     "metadata": {},
     "output_type": "display_data"
    }
   ],
   "source": [
    "clf.plot_losses()"
   ]
  }
 ],
 "metadata": {
  "kernelspec": {
   "display_name": "Python 3",
   "language": "python",
   "name": "python3"
  },
  "language_info": {
   "codemirror_mode": {
    "name": "ipython",
    "version": 3
   },
   "file_extension": ".py",
   "mimetype": "text/x-python",
   "name": "python",
   "nbconvert_exporter": "python",
   "pygments_lexer": "ipython3",
   "version": "3.6.4"
  }
 },
 "nbformat": 4,
 "nbformat_minor": 2
}
