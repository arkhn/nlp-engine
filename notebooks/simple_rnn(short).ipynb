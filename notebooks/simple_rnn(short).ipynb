{
 "cells": [
  {
   "cell_type": "code",
   "execution_count": 1,
   "metadata": {},
   "outputs": [],
   "source": [
    "import os\n",
    "import sys\n",
    "import glob\n",
    "sys.path.append('..') #Adding the parent folder to import files from there"
   ]
  },
  {
   "cell_type": "code",
   "execution_count": 2,
   "metadata": {},
   "outputs": [
    {
     "name": "stderr",
     "output_type": "stream",
     "text": [
      "/home/phong/anaconda3/lib/python3.6/site-packages/sklearn/ensemble/weight_boosting.py:29: DeprecationWarning: numpy.core.umath_tests is an internal NumPy module and should not be imported. It will be removed in a future NumPy release.\n",
      "  from numpy.core.umath_tests import inner1d\n"
     ]
    }
   ],
   "source": [
    "import src.loader as loader\n",
    "import src.models.rnn as rnn\n",
    "from ipywidgets import FloatProgress"
   ]
  },
  {
   "cell_type": "code",
   "execution_count": 3,
   "metadata": {},
   "outputs": [],
   "source": [
    "source = [\n",
    "    ('firstname', 'firstnames.firstname', 100),\n",
    "    \n",
    "    ('name', 'names.name', 100),\n",
    "    \n",
    "    ('code', 'patients.gender', 10),\n",
    "    ('code', 'admissions.marital_status', 10),\n",
    "    ('code', 'admissions.religion', 10),\n",
    "    ('code', 'admissions.insurance', 10),\n",
    "    ('code', 'admissions.admission_location', 10),\n",
    "    ('code', 'prescriptions.drug_type', 30),\n",
    "    ('code', 'prescriptions.dose_unit_rx', 20),\n",
    "    \n",
    "    ('date', 'prescriptions.startdate', 90),\n",
    "    ('date', 'admissions.admittime', 10),\n",
    "    \n",
    "    ('id', 'admissions.hadm_id', 10),\n",
    "    ('id', 'admissions.subject_id', 10),\n",
    "    ('id', 'prescriptions.subject_id', 80),\n",
    "    \n",
    "    ('address', 'addresses.road', 100),\n",
    "    \n",
    "    ('city', 'addresses.city', 100)\n",
    "]"
   ]
  },
  {
   "cell_type": "code",
   "execution_count": 4,
   "metadata": {},
   "outputs": [],
   "source": [
    "dataset = []\n",
    "labels = []\n",
    "for column in source:\n",
    "    if len(column) >= 3:\n",
    "        label, column_name, nb_datasets = column\n",
    "    else:\n",
    "        label, column_name, nb_datasets = column, 1\n",
    "    dataset.append((column_name, nb_datasets))\n",
    "    labels += [label.upper()] * nb_datasets"
   ]
  },
  {
   "cell_type": "code",
   "execution_count": 5,
   "metadata": {},
   "outputs": [
    {
     "data": {
      "application/vnd.jupyter.widget-view+json": {
       "model_id": "70dbcf632c0a4c9a98e40f0303938f69",
       "version_major": 2,
       "version_minor": 0
      },
      "text/plain": [
       "FloatProgress(value=0.0, max=700.0)"
      ]
     },
     "metadata": {},
     "output_type": "display_data"
    },
    {
     "name": "stdout",
     "output_type": "stream",
     "text": [
      "CPU times: user 943 ms, sys: 82.2 ms, total: 1.03 s\n",
      "Wall time: 1.98 s\n"
     ]
    }
   ],
   "source": [
    "%%time\n",
    "\n",
    "max_value = len(labels)\n",
    "bar = FloatProgress(min=0, max=max_value)\n",
    "display(bar)\n",
    "\n",
    "columns = loader.fetch_columns(dataset, dataset_size=100, load_bar=bar)"
   ]
  },
  {
   "cell_type": "code",
   "execution_count": 6,
   "metadata": {},
   "outputs": [],
   "source": [
    "clf = rnn.RNNClassifier(rnn.RNN, 128)\n",
    "X_train, y_train, X_test, y_test = clf.preprocess(columns, labels)"
   ]
  },
  {
   "cell_type": "code",
   "execution_count": 7,
   "metadata": {},
   "outputs": [
    {
     "name": "stdout",
     "output_type": "stream",
     "text": [
      "5000 5% (0m 20s) 1.8443 10074 / ID ✓\n",
      "10000 10% (0m 35s) 1.9047 faress / CITY ✗ (FIRSTNAME)\n",
      "15000 15% (0m 47s) 0.1482 rue des mesanges / ADDRESS ✓\n",
      "20000 20% (1m 1s) 1.5306 birane / CITY ✗ (FIRSTNAME)\n",
      "25000 25% (1m 13s) 5.1487 protestant quaker / ADDRESS ✗ (CODE)\n",
      "30000 30% (1m 26s) 0.3556 zohra / FIRSTNAME ✓\n",
      "35000 35% (1m 38s) 2.2887 harald / CODE ✗ (FIRSTNAME)\n",
      "40000 40% (1m 51s) 1.1155 bordeaux / NAME ✗ (CITY)\n",
      "45000 45% (2m 4s) 0.9772 gargam / NAME ✓\n",
      "50000 50% (2m 18s) 0.0000 2110-12-31t00:00:00 / DATE ✓\n",
      "55000 55% (2m 29s) 1.0989 lise / CITY ✗ (FIRSTNAME)\n",
      "60000 60% (2m 43s) 1.1878 loly / NAME ✗ (FIRSTNAME)\n",
      "65000 65% (2m 55s) 0.0409 m / CODE ✓\n",
      "70000 70% (3m 7s) 1.2037 denzel / NAME ✗ (FIRSTNAME)\n",
      "75000 75% (3m 19s) 1.2695 gleize / FIRSTNAME ✗ (CITY)\n",
      "80000 80% (3m 31s) 0.3297 rivedoux-plage / CITY ✓\n",
      "85000 85% (3m 43s) 1.5475 schirmann / FIRSTNAME ✗ (NAME)\n",
      "90000 90% (3m 55s) 0.0016 10124 / ID ✓\n",
      "95000 95% (4m 7s) 1.9860 niort / NAME ✗ (CITY)\n",
      "100000 100% (4m 19s) 0.1229 naida / FIRSTNAME ✓\n",
      "CPU times: user 12min 30s, sys: 12.4 s, total: 12min 43s\n",
      "Wall time: 4min 20s\n"
     ]
    }
   ],
   "source": [
    "%%time\n",
    "\n",
    "clf.fit(X_train, y_train)"
   ]
  },
  {
   "cell_type": "code",
   "execution_count": 8,
   "metadata": {},
   "outputs": [
    {
     "name": "stdout",
     "output_type": "stream",
     "text": [
      "FIRSTNAME           \t14/15\t   93.33% \t(FP:0)\n",
      "NAME                \t19/19\t   100.0% \t(FP:1)\n",
      "CODE                \t22/22\t   100.0% \t(FP:0)\n",
      "DATE                \t18/18\t   100.0% \t(FP:0)\n",
      "ID                  \t23/23\t   100.0% \t(FP:0)\n",
      "ADDRESS             \t21/21\t   100.0% \t(FP:0)\n",
      "CITY                \t22/22\t   100.0% \t(FP:0)\n",
      "SCORE 139/140 :   99.29%\n"
     ]
    }
   ],
   "source": [
    "y_pred = clf.predict(X_test, sampling=0.4)\n",
    "clf.score(y_pred, y_test)"
   ]
  },
  {
   "cell_type": "code",
   "execution_count": 9,
   "metadata": {},
   "outputs": [
    {
     "data": {
      "image/png": "[encoded data removed]",
      "text/plain": [
       "<Figure size 432x288 with 1 Axes>"
      ]
     },
     "metadata": {},
     "output_type": "display_data"
    }
   ],
   "source": [
    "clf.plot_losses()"
   ]
  }
 ],
 "metadata": {
  "kernelspec": {
   "display_name": "Python 3",
   "language": "python",
   "name": "python3"
  },
  "language_info": {
   "codemirror_mode": {
    "name": "ipython",
    "version": 3
   },
   "file_extension": ".py",
   "mimetype": "text/x-python",
   "name": "python",
   "nbconvert_exporter": "python",
   "pygments_lexer": "ipython3",
   "version": "3.6.6"
  }
 },
 "nbformat": 4,
 "nbformat_minor": 2
}
