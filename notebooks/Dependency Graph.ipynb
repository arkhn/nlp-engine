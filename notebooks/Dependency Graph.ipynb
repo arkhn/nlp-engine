{
 "cells": [
  {
   "cell_type": "markdown",
   "metadata": {},
   "source": [
    "## SQL Discovery"
   ]
  },
  {
   "cell_type": "markdown",
   "metadata": {},
   "source": [
    "Here is our SQL Join Discovery tool"
   ]
  },
  {
   "cell_type": "code",
   "execution_count": 5,
   "metadata": {},
   "outputs": [],
   "source": [
    "from loader import sql\n",
    "import numpy as np\n",
    "import re\n",
    "import dependency"
   ]
  },
  {
   "cell_type": "code",
   "execution_count": 6,
   "metadata": {},
   "outputs": [],
   "source": [
    "discovery = dependency.Discovery('mimic', 'admissions')"
   ]
  },
  {
   "cell_type": "code",
   "execution_count": 7,
   "metadata": {},
   "outputs": [
    {
     "name": "stdout",
     "output_type": "stream",
     "text": [
      "services row_id caregivers cgid 73\n",
      "services row_id chartevents_1 cgid 691\n",
      "services row_id chartevents_2 cgid 836\n",
      "services row_id chartevents_3 cgid 781\n",
      "services row_id chartevents_4 cgid 710\n",
      "services row_id chartevents_5 cgid 938\n",
      "services row_id chartevents_6 cgid 760\n",
      "services row_id chartevents_7 cgid 540\n",
      "services row_id chartevents_8 cgid 283\n",
      "services row_id chartevents_10 cgid 946\n",
      "services row_id chartevents_11 cgid 650\n",
      "services row_id chartevents_12 cgid 1471\n",
      "services row_id chartevents_13 cgid 1267\n",
      "services row_id chartevents_14 cgid 1459\n",
      "services row_id chartevents_15 cgid 1356\n",
      "services row_id chartevents_16 cgid 1448\n",
      "services row_id chartevents_17 cgid 565\n",
      "services row_id chartevents cgid 14701\n",
      "services row_id datetimeevents cgid 248\n",
      "services row_id d_items row_id 73\n",
      "services row_id inputevents_cv cgid 892\n",
      "services row_id inputevents_mv cgid 176\n",
      "services row_id outputevents cgid 256\n",
      "services row_id procedureevents_mv cgid 20\n",
      "services row_id firstnames frequency 4\n",
      "services row_id names frequency 3\n",
      "services subject_id admissions subject_id 437\n",
      "services subject_id callout subject_id 309\n",
      "services subject_id chartevents_1 subject_id 49609\n",
      "services subject_id chartevents_2 subject_id 61757\n",
      "services subject_id chartevents_3 subject_id 55156\n",
      "services subject_id chartevents_4 subject_id 51973\n",
      "services subject_id chartevents_5 subject_id 67054\n",
      "services subject_id chartevents_6 subject_id 53298\n",
      "services subject_id chartevents_7 subject_id 58301\n",
      "services subject_id chartevents_8 subject_id 25397\n",
      "services subject_id chartevents_10 subject_id 58392\n",
      "services subject_id chartevents_11 subject_id 39824\n",
      "services subject_id chartevents_12 subject_id 201235\n",
      "services subject_id chartevents_13 subject_id 258409\n",
      "services subject_id chartevents_14 subject_id 277578\n",
      "services subject_id chartevents_15 subject_id 269925\n",
      "services subject_id chartevents_16 subject_id 291562\n",
      "services subject_id chartevents_17 subject_id 120799\n",
      "services subject_id chartevents subject_id 1940269\n",
      "services subject_id cptevents subject_id 4474\n",
      "services subject_id datetimeevents subject_id 44605\n",
      "services subject_id diagnoses_icd subject_id 6766\n",
      "services subject_id drgcodes subject_id 1156\n",
      "services subject_id d_cpt mincodeinsubsection 1\n",
      "services subject_id d_icd_diagnoses row_id 73\n",
      "services subject_id d_items row_id 58\n",
      "services subject_id icustays row_id 17\n",
      "services subject_id inputevents_cv subject_id 49316\n",
      "services subject_id inputevents_mv subject_id 47948\n",
      "services subject_id labevents subject_id 199457\n",
      "services subject_id microbiologyevents subject_id 8495\n",
      "services subject_id outputevents subject_id 29212\n",
      "services subject_id patients subject_id 163\n",
      "services subject_id prescriptions subject_id 34675\n",
      "services subject_id procedureevents_mv subject_id 2727\n",
      "services subject_id procedures_icd subject_id 1520\n",
      "services subject_id transfers subject_id 1733\n",
      "services subject_id firstnames frequency 11\n",
      "services subject_id names frequency 2\n",
      "services hadm_id admissions hadm_id 163\n",
      "services hadm_id callout hadm_id 99\n",
      "services hadm_id chartevents_1 hadm_id 39846\n",
      "services hadm_id chartevents_2 hadm_id 49118\n",
      "services hadm_id chartevents_3 hadm_id 44555\n",
      "services hadm_id chartevents_4 hadm_id 42378\n",
      "services hadm_id chartevents_5 hadm_id 53976\n",
      "services hadm_id chartevents_6 hadm_id 43444\n",
      "services hadm_id chartevents_7 hadm_id 46893\n",
      "services hadm_id chartevents_8 hadm_id 20487\n",
      "services hadm_id chartevents_10 hadm_id 44986\n",
      "services hadm_id chartevents_11 hadm_id 31690\n",
      "services hadm_id chartevents_12 hadm_id 76026\n",
      "services hadm_id chartevents_13 hadm_id 92462\n",
      "services hadm_id chartevents_14 hadm_id 96171\n",
      "services hadm_id chartevents_15 hadm_id 94136\n",
      "services hadm_id chartevents_16 hadm_id 97765\n",
      "services hadm_id chartevents_17 hadm_id 34018\n",
      "services hadm_id chartevents hadm_id 907951\n",
      "services hadm_id cptevents hadm_id 2069\n",
      "services hadm_id datetimeevents hadm_id 18588\n",
      "services hadm_id diagnoses_icd row_id 1\n",
      "services hadm_id drgcodes hadm_id 371\n",
      "services hadm_id icustays hadm_id 174\n",
      "services hadm_id inputevents_cv hadm_id 40598\n",
      "services hadm_id inputevents_mv hadm_id 16681\n",
      "services hadm_id labevents hadm_id 81318\n",
      "services hadm_id microbiologyevents hadm_id 2494\n",
      "services hadm_id outputevents row_id 1\n",
      "services hadm_id prescriptions hadm_id 13630\n",
      "services hadm_id procedureevents_mv hadm_id 968\n",
      "services hadm_id procedures_icd hadm_id 632\n",
      "services hadm_id transfers hadm_id 709\n",
      "services curr_service callout callout_service 4332\n",
      "services curr_service chartevents_7 value 4437\n",
      "services curr_service chartevents value 4437\n",
      "services curr_service inputevents_cv originalroute 65\n"
     ]
    },
    {
     "data": {
      "text/plain": [
       "['admissions',\n",
       " 'callout',\n",
       " 'caregivers',\n",
       " 'chartevents',\n",
       " 'chartevents_1',\n",
       " 'chartevents_10',\n",
       " 'chartevents_11',\n",
       " 'chartevents_12',\n",
       " 'chartevents_13',\n",
       " 'chartevents_14',\n",
       " 'chartevents_15',\n",
       " 'chartevents_16',\n",
       " 'chartevents_17',\n",
       " 'chartevents_2',\n",
       " 'chartevents_3',\n",
       " 'chartevents_4',\n",
       " 'chartevents_5',\n",
       " 'chartevents_6',\n",
       " 'chartevents_7',\n",
       " 'chartevents_8',\n",
       " 'cptevents',\n",
       " 'd_cpt',\n",
       " 'd_icd_diagnoses',\n",
       " 'd_items',\n",
       " 'datetimeevents',\n",
       " 'diagnoses_icd',\n",
       " 'drgcodes',\n",
       " 'firstnames',\n",
       " 'icustays',\n",
       " 'inputevents_cv',\n",
       " 'inputevents_mv',\n",
       " 'labevents',\n",
       " 'microbiologyevents',\n",
       " 'names',\n",
       " 'outputevents',\n",
       " 'patients',\n",
       " 'prescriptions',\n",
       " 'procedureevents_mv',\n",
       " 'procedures_icd',\n",
       " 'transfers']"
      ]
     },
     "execution_count": 7,
     "metadata": {},
     "output_type": "execute_result"
    }
   ],
   "source": [
    "discovery.find_joinable_tables('services')"
   ]
  },
  {
   "cell_type": "code",
   "execution_count": null,
   "metadata": {},
   "outputs": [],
   "source": []
  }
 ],
 "metadata": {
  "kernelspec": {
   "display_name": "Python 3",
   "language": "python",
   "name": "python3"
  },
  "language_info": {
   "codemirror_mode": {
    "name": "ipython",
    "version": 3
   },
   "file_extension": ".py",
   "mimetype": "text/x-python",
   "name": "python",
   "nbconvert_exporter": "python",
   "pygments_lexer": "ipython3",
   "version": "3.6.4"
  }
 },
 "nbformat": 4,
 "nbformat_minor": 2
}
