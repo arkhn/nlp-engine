{
 "cells": [
  {
   "cell_type": "code",
   "execution_count": 7,
   "metadata": {},
   "outputs": [
    {
     "name": "stderr",
     "output_type": "stream",
     "text": [
      "WARNING:root:Model ready!\n"
     ]
    },
    {
     "name": "stdout",
     "output_type": "stream",
     "text": [
      "CPU times: user 76.9 ms, sys: 23.4 ms, total: 100 ms\n",
      "Wall time: 113 ms\n"
     ]
    }
   ],
   "source": [
    "%%time\n",
    "import sys\n",
    "sys.path.append('..') #Adding the parent folder to import files from there\n",
    "\n",
    "import pickle\n",
    "from api.common.utils import file_response\n",
    "from engine.query import Query\n",
    "\n",
    "\n",
    "ENCODING = 'utf-8'\n",
    "\n",
    "database = 'mimic' # 'CW'\n",
    "owner = 'ICSF'\n",
    "query = Query(owner, database)\n",
    "q1 = query.load(model_selected='ngram')\n"
   ]
  },
  {
   "cell_type": "code",
   "execution_count": 8,
   "metadata": {},
   "outputs": [
    {
     "data": {
      "text/plain": [
       "dict_keys(['ngram', 'rnn'])"
      ]
     },
     "execution_count": 8,
     "metadata": {},
     "output_type": "execute_result"
    }
   ],
   "source": [
    "q1.models.keys()"
   ]
  },
  {
   "cell_type": "code",
   "execution_count": 9,
   "metadata": {},
   "outputs": [
    {
     "name": "stdout",
     "output_type": "stream",
     "text": [
      "d_cpt\n",
      "\tinputevents_mv\n",
      "\t\tcategory=cancelreason\n",
      "\tprocedureevents_mv\n",
      "\t\tcategory=cancelreason\n"
     ]
    }
   ],
   "source": [
    "graph = q1.dependency_graph\n",
    "print(graph.get_table('d_cpt'))\n"
   ]
  },
  {
   "cell_type": "code",
   "execution_count": 10,
   "metadata": {},
   "outputs": [
    {
     "name": "stdout",
     "output_type": "stream",
     "text": [
      "46\n",
      "38 in the graph\n",
      "admissions                     22\n",
      "callout                        24\n",
      "caregivers                     0\n",
      "chartevents_1                  26\n",
      "chartevents_2                  26\n",
      "chartevents_3                  26\n",
      "chartevents_4                  26\n",
      "chartevents_5                  26\n",
      "chartevents_6                  26\n",
      "chartevents_7                  26\n",
      "chartevents_8                  26\n",
      "chartevents_9                  0\n",
      "chartevents_10                 26\n",
      "chartevents_11                 26\n",
      "chartevents_12                 33\n",
      "chartevents_13                 24\n",
      "chartevents_14                 27\n",
      "chartevents_15                 28\n",
      "chartevents_16                 23\n",
      "chartevents_17                 31\n",
      "chartevents                    33\n",
      "cptevents                      22\n",
      "datetimeevents                 33\n",
      "diagnoses_icd                  1\n",
      "drgcodes                       22\n",
      "d_cpt                          2\n",
      "d_icd_diagnoses                0\n",
      "d_icd_procedures               0\n",
      "d_items                        2\n",
      "d_labitems                     0\n",
      "icustays                       23\n",
      "inputevents_cv                 24\n",
      "inputevents_mv                 32\n",
      "labevents                      21\n",
      "microbiologyevents             22\n",
      "noteevents                     0\n",
      "outputevents                   33\n",
      "patients                       20\n",
      "prescriptions                  22\n",
      "procedureevents_mv             25\n",
      "procedures_icd                 1\n",
      "services                       22\n",
      "transfers                      23\n",
      "firstnames                     0\n",
      "names                          0\n",
      "addresses                      20\n"
     ]
    }
   ],
   "source": [
    "print(len(graph.get_tables()))\n",
    "print(len([t for t in graph.get_tables() if len(graph.get_table(t).get_joins()) > 0]), 'in the graph')\n",
    "for t in graph.get_tables():\n",
    "    table = graph.get_table(t)\n",
    "    print((table.name+' '*30)[:30], len(table.get_joins()))"
   ]
  },
  {
   "cell_type": "code",
   "execution_count": 11,
   "metadata": {},
   "outputs": [],
   "source": [
    "def display(results):\n",
    "    first = True\n",
    "    for res in results:\n",
    "        score = res['score']\n",
    "        name = res['column']\n",
    "        data = res['data']\n",
    "        print('Score:{}\\t{}'.format(round(score, 2), name))\n",
    "        print(' '.join([(el+' '*50)[:27]+'  ' for el in data[:12]]), '\\n')\n",
    "        print('-'*30+'\\nOTHER RESULTS\\n\\n' if first else '', end='')\n",
    "        first = False"
   ]
  },
  {
   "cell_type": "code",
   "execution_count": 12,
   "metadata": {},
   "outputs": [
    {
     "name": "stdout",
     "output_type": "stream",
     "text": [
      "Score:0.95\taddresses.city\n",
      "Biscarrosse                   Saintes                       Marolles                      Cuers                         Colmey                        La Crau                       Clapiers                      Golbey                        Lingolsheim                   Gien                          Lengronne                     Hésingue                      \n",
      "\n",
      "------------------------------\n",
      "OTHER RESULTS\n",
      "\n",
      "Score:0.46\td_icd_diagnoses.short_title\n",
      "Neurogenic bladder NOS        Schizoph dis resid-subch      3rd burn w loss arm-mult      Beriberi                      Del w 2 deg lacerat-unsp      Mixed intestine helminth      Mal neo skull/face bone       Adv eff cholinergics          Dental disorder NOS           Kleptomania                   Mal neo skull/face bone       Inj superior mesent vein      \n",
      "\n",
      "Score:0.4\td_icd_diagnoses.long_title\n",
      "Personal history of maligna   Mechanical failure of instr   Other complications of anes   Malignant neoplasm of heart   Other motor vehicle nontraf   Necrotizing enterocolitis i   Redundant prepuce and phimo   Chronic inflammatory diseas   Accident to powered aircraf   Injury to rectum, with open   Screening examination for p   Other noninfectious disorde   \n",
      "\n",
      "Score:0.38\td_icd_procedures.long_title\n",
      "Insertion of vaginal mold     Other antesternal esophagea   Radical vulvectomy            Artificial pacemaker electr   Other repair of bladder       Excision of lesion of other   Hymenectomy                   Heterograft to skin           Excision of lesion of iris    Other operations on spinal    Diagnostic ultrasound of ab   Other repair of diaphragm     \n",
      "\n",
      "Score:0.36\td_labitems.label\n",
      "Vitamin B12                   CD3                           CD23                          Marijuana                     Young                         Bicarbonate, Ascites          Reticulocyte Count, Absolut   Oval Fat Body                 Eosinophils                   CD14                          Iron Binding Capacity, Tota   Albumin, Pleural              \n",
      "\n",
      "Score:0.35\td_icd_procedures.short_title\n",
      "Arm ves resect w replace      Culture-integument            Manual rotat fetal head       Noninvas elect stimulatn      Orthodon applianc applic      After catar fragmntation      Lap bil ing hern-grf NOS      Manual reduction hernia       Inj therap subst periton      Ovarian biopsy NEC            Oth op on >l extraoc mus      Opn lft hemicolectmy NEC      \n",
      "\n",
      "Score:0.34\td_items.label\n",
      "Sucrose                       promote with fiber            left pleuracentesis           Plasmaphoresis                Pheresis Catheter             leg retraints                 CLOSTRIDIUM SPECIES NOT C.    ST Segment Monitoring On      PCA inject                    INV Line#5 [Type]             NS w/30mmol NaPhos            ns fluid boluses              \n",
      "\n",
      "Score:0.34\tchartevents_15.value\n",
      "Sharp                         None                          Intact                        Localizes                     None                          1                             Absent                        WNL                           1 Person Assist               None                          AtmosAir Mattress             Albuterol                     \n",
      "\n",
      "Score:0.33\td_cpt.subsectionheader\n",
      "Hospital inpatient services   Diagnostic ultrasound         Eye and ocular adnexa         Cardiovascular system         Endocrinology                 Confirmatory consultation f   Consultations                 Special evaluation and mana   Special evaluation and mana   Central nervous system asse   Prolonged services            Musculoskeletal system        \n",
      "\n",
      "Score:0.32\tprescriptions.drug\n",
      "Ipratropium Bromide MDI       Metoprolol Tartrate           Furosemide                    Glucagon                      Milk of Magnesia              Iso-Osmotic Dextrose          Phytonadione                  Lorazepam                     Bisacodyl                     Artificial Tear Ointment      Warfarin                      Potassium Chloride            \n",
      "\n"
     ]
    }
   ],
   "source": [
    "res = query.find('CITY')\n",
    "display(res)"
   ]
  },
  {
   "cell_type": "code",
   "execution_count": 8,
   "metadata": {},
   "outputs": [
    {
     "name": "stdout",
     "output_type": "stream",
     "text": [
      "{'NAME': 0.03333333333333333, 'CODE': 0.9666666666666667}\n",
      "{'NAME': 0.0, 'CODE': 1.0}\n",
      "{'NAME': 0.0, 'CODE': 1.0}\n",
      "{'NAME': 0.006666666666666667, 'CODE': 0.9933333333333333}\n",
      "{'NAME': 0.0, 'CODE': 1.0}\n",
      "{'NAME': 0.0, 'CODE': 1.0}\n",
      "{'NAME': 0.0, 'CODE': 1.0}\n",
      "{'NAME': 0.0, 'CODE': 1.0}\n",
      "{'NAME': 0.0, 'CODE': 1.0}\n",
      "{'NAME': 0.0, 'CODE': 1.0}\n",
      "{'NAME': 0.0, 'CODE': 1.0}\n",
      "{'NAME': 0.0, 'CODE': 1.0}\n",
      "{'NAME': 0.0, 'CODE': 1.0}\n",
      "{'NAME': 0.0, 'CODE': 1.0}\n",
      "{'NAME': 0.0, 'CODE': 1.0}\n",
      "{'NAME': 0.0, 'CODE': 1.0}\n",
      "{'NAME': 0.02, 'CODE': 0.98}\n",
      "{'NAME': 0.0, 'CODE': 1.0}\n",
      "{'NAME': 0.0, 'CODE': 1.0}\n",
      "{'NAME': 0.0, 'CODE': 1.0}\n",
      "{'NAME': 0.0, 'CODE': 1.0}\n",
      "{'NAME': 0.0, 'CODE': 1.0}\n",
      "{'NAME': 0.0, 'CODE': 1.0}\n",
      "{'NAME': 0.1, 'CODE': 0.9}\n",
      "{'NAME': 0.0, 'CODE': 1.0}\n",
      "{'NAME': 0.0, 'CODE': 1.0}\n",
      "{'NAME': 0.0, 'CODE': 1.0}\n",
      "{'NAME': 0.0, 'CODE': 1.0}\n",
      "{'NAME': 0.0, 'CODE': 1.0}\n",
      "{'NAME': 0.0, 'CODE': 1.0}\n",
      "{'NAME': 0.0, 'CODE': 1.0}\n",
      "{'NAME': 0.0, 'CODE': 1.0}\n",
      "{'NAME': 0.0, 'CODE': 1.0}\n",
      "{'NAME': 0.0, 'CODE': 1.0}\n",
      "{'NAME': 0.0, 'CODE': 1.0}\n",
      "{'NAME': 0.0, 'CODE': 1.0}\n",
      "{'NAME': 0.0, 'CODE': 1.0}\n",
      "{'NAME': 0.0, 'CODE': 1.0}\n",
      "{'NAME': 0.0, 'CODE': 1.0}\n",
      "{'NAME': 0.0, 'CODE': 1.0}\n",
      "{'NAME': 0.013333333333333334, 'CODE': 0.9866666666666667}\n",
      "{'NAME': 0.0, 'CODE': 1.0}\n",
      "{'NAME': 0.0, 'CODE': 1.0}\n",
      "{'NAME': 0.0, 'CODE': 1.0}\n",
      "{'NAME': 0.0, 'CODE': 1.0}\n",
      "{'NAME': 0.0, 'CODE': 1.0}\n",
      "{'NAME': 0.0, 'CODE': 1.0}\n",
      "{'NAME': 0.0, 'CODE': 1.0}\n",
      "{'NAME': 0.0, 'CODE': 1.0}\n",
      "{'NAME': 0.0033333333333333335, 'CODE': 0.9966666666666667}\n",
      "{'NAME': 0.0, 'CODE': 1.0}\n",
      "{'NAME': 0.0, 'CODE': 1.0}\n",
      "{'NAME': 0.0, 'CODE': 1.0}\n",
      "{'NAME': 0.0, 'CODE': 1.0}\n",
      "{'NAME': 0.0, 'CODE': 1.0}\n",
      "{'NAME': 0.0, 'CODE': 1.0}\n",
      "{'NAME': 0.0, 'CODE': 1.0}\n",
      "{'NAME': 0.6533333333333333, 'CODE': 0.3466666666666667}\n",
      "{'NAME': 0.0, 'CODE': 1.0}\n",
      "{'NAME': 0.0, 'CODE': 1.0}\n",
      "{'NAME': 0.05, 'CODE': 0.95}\n",
      "{'NAME': 0.0, 'CODE': 1.0}\n",
      "{'NAME': 0.0, 'CODE': 1.0}\n",
      "{'NAME': 0.0, 'CODE': 1.0}\n",
      "{'NAME': 0.0, 'CODE': 1.0}\n",
      "{'NAME': 0.043333333333333335, 'CODE': 0.9566666666666667}\n",
      "{'NAME': 0.0, 'CODE': 1.0}\n",
      "{'NAME': 0.0, 'CODE': 1.0}\n",
      "{'NAME': 0.0, 'CODE': 1.0}\n",
      "{'NAME': 0.0, 'CODE': 1.0}\n",
      "{'NAME': 0.0, 'CODE': 1.0}\n",
      "{'NAME': 0.15333333333333332, 'CODE': 0.8466666666666667}\n",
      "{'NAME': 0.0, 'CODE': 1.0}\n",
      "{'NAME': 0.0, 'CODE': 1.0}\n",
      "{'NAME': 0.0033333333333333335, 'CODE': 0.9966666666666667}\n",
      "{'NAME': 0.0, 'CODE': 1.0}\n",
      "{'NAME': 0.0, 'CODE': 1.0}\n",
      "{'NAME': 0.01, 'CODE': 0.99}\n",
      "{'NAME': 0.0, 'CODE': 1.0}\n",
      "{'NAME': 0.016666666666666666, 'CODE': 0.9833333333333333}\n",
      "{'NAME': 0.0, 'CODE': 1.0}\n",
      "{'NAME': 0.0, 'CODE': 1.0}\n",
      "{'NAME': 0.0, 'CODE': 1.0}\n",
      "{'NAME': 0.0, 'CODE': 1.0}\n",
      "{'NAME': 0.0, 'CODE': 1.0}\n",
      "{'NAME': 0.0, 'CODE': 1.0}\n",
      "{'NAME': 0.0, 'CODE': 1.0}\n",
      "{'NAME': 0.0, 'CODE': 1.0}\n",
      "{'NAME': 0.0, 'CODE': 1.0}\n",
      "{'NAME': 0.0, 'CODE': 1.0}\n",
      "{'NAME': 0.0, 'CODE': 1.0}\n",
      "{'NAME': 0.0, 'CODE': 1.0}\n",
      "{'NAME': 0.0, 'CODE': 1.0}\n",
      "{'NAME': 0.0, 'CODE': 1.0}\n",
      "{'NAME': 0.0, 'CODE': 1.0}\n",
      "{'NAME': 0.0, 'CODE': 1.0}\n",
      "{'NAME': 0.0, 'CODE': 1.0}\n",
      "{'NAME': 0.0, 'CODE': 1.0}\n",
      "{'NAME': 0.0, 'CODE': 1.0}\n",
      "{'NAME': 0.0, 'CODE': 1.0}\n"
     ]
    }
   ],
   "source": [
    "for column_name, column in query.model.classification.items():\n",
    "    print(column['labels'])\n",
    "    "
   ]
  },
  {
   "cell_type": "code",
   "execution_count": null,
   "metadata": {},
   "outputs": [],
   "source": []
  }
 ],
 "metadata": {
  "kernelspec": {
   "display_name": "Python 3",
   "language": "python",
   "name": "python3"
  },
  "language_info": {
   "codemirror_mode": {
    "name": "ipython",
    "version": 3
   },
   "file_extension": ".py",
   "mimetype": "text/x-python",
   "name": "python",
   "nbconvert_exporter": "python",
   "pygments_lexer": "ipython3",
   "version": "3.6.4"
  }
 },
 "nbformat": 4,
 "nbformat_minor": 2
}
