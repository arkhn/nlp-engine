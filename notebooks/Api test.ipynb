{
 "cells": [
  {
   "cell_type": "code",
   "execution_count": 1,
   "metadata": {},
   "outputs": [
    {
     "name": "stderr",
     "output_type": "stream",
     "text": [
      "WARNING:root:Fetching data...\n",
      "WARNING:root:Preprocessing data...\n",
      "WARNING:root:Fitting model...\n"
     ]
    },
    {
     "name": "stdout",
     "output_type": "stream",
     "text": [
      "(560, 13441)\n"
     ]
    },
    {
     "name": "stderr",
     "output_type": "stream",
     "text": [
      "WARNING:root:Score information:\n",
      "WARNING:root:Building classification...\n"
     ]
    },
    {
     "name": "stdout",
     "output_type": "stream",
     "text": [
      "FIRSTNAME           \t17/17\t   100.0% \t(FP:0)\n",
      "NAME                \t23/23\t   100.0% \t(FP:0)\n",
      "CODE                \t16/16\t   100.0% \t(FP:0)\n",
      "DATE                \t17/17\t   100.0% \t(FP:0)\n",
      "ID                  \t22/22\t   100.0% \t(FP:0)\n",
      "ADDRESS             \t21/21\t   100.0% \t(FP:0)\n",
      "CITY                \t24/24\t   100.0% \t(FP:0)\n",
      "SCORE 140/140 :   100.0%\n"
     ]
    }
   ],
   "source": [
    "import pickle\n",
    "from api.common.utils import file_response\n",
    "from src.query import Query\n",
    "\n",
    "\n",
    "ENCODING = 'utf-8'\n",
    "\n",
    "database = 'mimic' # 'CW'\n",
    "owner = 'ICSF'\n",
    "query = Query(owner, database)\n",
    "q1 = query.load()\n"
   ]
  },
  {
   "cell_type": "code",
   "execution_count": 22,
   "metadata": {},
   "outputs": [],
   "source": [
    "def display(res):\n",
    "    first = True\n",
    "    for score, name, col in res:\n",
    "        print('Score:{}\\t{}'.format(round(score, 2), name))\n",
    "        print(' '.join([(el+' '*50)[:27]+'  ' for el in col['data'][:12]]), '\\n')\n",
    "        print('-'*30+'\\nOTHER RESULTS\\n\\n' if first else '', end='')\n",
    "        first = False"
   ]
  },
  {
   "cell_type": "code",
   "execution_count": 25,
   "metadata": {},
   "outputs": [
    {
     "name": "stdout",
     "output_type": "stream",
     "text": [
      "Score:0.97\tmimic.addresses.city\n",
      "Saverne                       Bar                           Lavacquerie                   Chis                          Liverdun                      Saint-Florent-sur-Cher        Miramas                       Billy-Montigny                Vic-le-Comte                  Saint-Jean-Pied-de-Port       Beynost                       Éloyes                        \n",
      "\n",
      "------------------------------\n",
      "OTHER RESULTS\n",
      "\n",
      "Score:0.44\tmimic.d_icd_diagnoses.short_title\n",
      "Anaplastic lymph pelvic       Abrasion NEC                  Orbital periostitis           TB of bronchus-oth test       Arthropathy NOS-hand          Aniseikonia                   Postop shock, septic          TB sp crd absc-no exam        Superfic inj conjunctiva      Fx c3 vertebra-closed         Open wound of cochlea         Submers NEC-crew              \n",
      "\n",
      "Score:0.43\tmimic.d_icd_procedures.short_title\n",
      "Patellar stabilization        Fit ext penile prosthes       Incis perianal abscess        Keratomileusis                Lid marg lac rx-part th       Elbow joint biopsy            Barium swallow                Int insert 1-cham, rate       Lid reconstr w graft NEC      Noninvas elect stimulatn      Bone thermography             Referral vocation rehab       \n",
      "\n",
      "Score:0.34\tmimic.d_labitems.label\n",
      "Free Calcium                  Cholesterol Crystals          Phenytoin, Percent Free       Absolute Hemoglobin           C3                            Luteinizing Hormone           CD20                          CD45                          Osmolality, Measured          CD56                          CD56                          Urine Volume                  \n",
      "\n",
      "Score:0.34\tmimic.d_icd_diagnoses.long_title\n",
      "Injury to popliteal artery    Deep necrosis of underlying   Anaplastic large cell lymph   Eosinophilic gastritis, wit   Intestinal infection due to   Fragile X syndrome            Accidental fall from commod   Conductive hearing loss, ty   Injury to unspecified crani   Hematoma of vulva             Atrophy of breast             Injury to superficial nerve   \n",
      "\n",
      "Score:0.33\tmimic.d_cpt.subsectionheader\n",
      "Endocrinology                 Maternity care and delivery   Anatomic pathology (postmor   Neurology and neuromuscular   Obstetric                     Breast mammography            Neurology and neuromuscular   Telephone care (deleted cod   Bone/joint studies            Patient history               Hydration, therapeutic, pro   Patient management            \n",
      "\n",
      "Score:0.31\tmimic.d_icd_procedures.long_title\n",
      "Control of epistaxis by exc   Repair of wound of orbit      Incision of perirectal tiss   Arteriography using contras   Arthroscopy, ankle            Excision of lesion of maxil   Other excision or destructi   Closed [percutaneous] [need   Tympanosympathectomy          Complete laryngectomy         Microscopic examination of    Repair of rectovaginal fist   \n",
      "\n",
      "Score:0.3\tmimic.chartevents_14.value\n",
      "Clear                         Obese                         Regular                       Bedrest                       Back                          Altered LOC                   Regular                       Abdomen                       Rhonchi                       Done                          Patent                        Bedfast                       \n",
      "\n",
      "Score:0.3\tmimic.chartevents.value\n",
      "No Response-ETT               36.599998474121094            Unable to Assess              Soft                          1.2                           Normal <3 Seconds             Non-productive                128                           1                             Mechanical Lift               98                            Dialysis Line                 \n",
      "\n",
      "Score:0.29\tmimic.prescriptions.drug\n",
      "Insulin                       Epinephrine HCl               Furosemide                    NS                            Ipratropium Bromide Neb       Docusate Sodium               LR                            Morphine Sulfate              D5W                           Furosemide                    Captopril                     Nesiritide                    \n",
      "\n",
      "Score:0.28\tmimic.prescriptions.drug_name_generic\n",
      "                              Lisinopril                    Bisacodyl (Rectal)            Docusate Sodium               Acetaminophen (Rectal)                                                                                                  Tizanidine HCl                Isoniazid                     traZODONE                     Nortriptyline HCl             \n",
      "\n",
      "Score:0.28\tmimic.prescriptions.drug_name_poe\n",
      "Insulin                                                                                                                 Morphine Sulfate              Sodium Chloride 0.9%  Flush   Insulin                       HydrALAZINE HCl               Labetalol                     Sodium Bicarbonate                                          Gabapentin                    \n",
      "\n",
      "Score:0.27\tmimic.chartevents_16.value\n",
      "Erythema                      1                             On                            Bed rest                      -50                           1                             Head - Right                  Brisk                         Patent                        On                            0                             9                             \n",
      "\n",
      "Score:0.26\tmimic.chartevents_17.value\n",
      "On                            Side rails                    Done                          All rails up                  Treatment interference        Done                          Treatment interference        Adequate lighting             Done                          Foley                         Soft limb                     Reapplied                     \n",
      "\n",
      "Score:0.26\tmimic.chartevents_2.value\n",
      "WNL                                                         Altered LOC                   Intact                        Full Code                     Full Code                     None                          PAC's                         Full Code                     None                          Tube Feeding                  Frequent                      \n",
      "\n",
      "Score:0.25\tmimic.chartevents_4.value\n",
      "68                            Right Side                    38                            6                             Teeth/Tissue WNL              9.6999998092651367            Alert                         Left Side                     Lethargic                     137                           Yes                           6                             \n",
      "\n",
      "Score:0.25\tmimic.chartevents_6.value\n",
      "AtmosAir Mattres              84                            Assist Control                99.319999694824219            Blood                         36.599998474121094            97.099998474121094            Yellow                        97                            SIMV+PS                       601                           1.0 ET/Trach                  \n",
      "\n",
      "Score:0.24\tmimic.chartevents_5.value\n",
      "12                            26                            12                            Regular                       12                            Normal                        Moves on Bed                  75.599998474121094            21                            3 mm                          Side Rails Up                 13                            \n",
      "\n",
      "Score:0.24\tmimic.chartevents_15.value\n",
      "Pressure ulcer                0                             Supine                        .9                            483                           0                             Salem Sump                    Warm                          12                            None                          Negative                      1                             \n",
      "\n",
      "Score:0.24\tmimic.chartevents_13.value\n",
      "Sedated                       No                            Tolerable                     113                           15                            Moves on Bed                  100                           160                           Yes                           None                          Verbal                        4                             \n",
      "\n"
     ]
    }
   ],
   "source": [
    "res = query.find('CITY')\n",
    "display(res)"
   ]
  },
  {
   "cell_type": "code",
   "execution_count": 8,
   "metadata": {},
   "outputs": [
    {
     "name": "stdout",
     "output_type": "stream",
     "text": [
      "{'NAME': 0.03333333333333333, 'CODE': 0.9666666666666667}\n",
      "{'NAME': 0.0, 'CODE': 1.0}\n",
      "{'NAME': 0.0, 'CODE': 1.0}\n",
      "{'NAME': 0.006666666666666667, 'CODE': 0.9933333333333333}\n",
      "{'NAME': 0.0, 'CODE': 1.0}\n",
      "{'NAME': 0.0, 'CODE': 1.0}\n",
      "{'NAME': 0.0, 'CODE': 1.0}\n",
      "{'NAME': 0.0, 'CODE': 1.0}\n",
      "{'NAME': 0.0, 'CODE': 1.0}\n",
      "{'NAME': 0.0, 'CODE': 1.0}\n",
      "{'NAME': 0.0, 'CODE': 1.0}\n",
      "{'NAME': 0.0, 'CODE': 1.0}\n",
      "{'NAME': 0.0, 'CODE': 1.0}\n",
      "{'NAME': 0.0, 'CODE': 1.0}\n",
      "{'NAME': 0.0, 'CODE': 1.0}\n",
      "{'NAME': 0.0, 'CODE': 1.0}\n",
      "{'NAME': 0.02, 'CODE': 0.98}\n",
      "{'NAME': 0.0, 'CODE': 1.0}\n",
      "{'NAME': 0.0, 'CODE': 1.0}\n",
      "{'NAME': 0.0, 'CODE': 1.0}\n",
      "{'NAME': 0.0, 'CODE': 1.0}\n",
      "{'NAME': 0.0, 'CODE': 1.0}\n",
      "{'NAME': 0.0, 'CODE': 1.0}\n",
      "{'NAME': 0.1, 'CODE': 0.9}\n",
      "{'NAME': 0.0, 'CODE': 1.0}\n",
      "{'NAME': 0.0, 'CODE': 1.0}\n",
      "{'NAME': 0.0, 'CODE': 1.0}\n",
      "{'NAME': 0.0, 'CODE': 1.0}\n",
      "{'NAME': 0.0, 'CODE': 1.0}\n",
      "{'NAME': 0.0, 'CODE': 1.0}\n",
      "{'NAME': 0.0, 'CODE': 1.0}\n",
      "{'NAME': 0.0, 'CODE': 1.0}\n",
      "{'NAME': 0.0, 'CODE': 1.0}\n",
      "{'NAME': 0.0, 'CODE': 1.0}\n",
      "{'NAME': 0.0, 'CODE': 1.0}\n",
      "{'NAME': 0.0, 'CODE': 1.0}\n",
      "{'NAME': 0.0, 'CODE': 1.0}\n",
      "{'NAME': 0.0, 'CODE': 1.0}\n",
      "{'NAME': 0.0, 'CODE': 1.0}\n",
      "{'NAME': 0.0, 'CODE': 1.0}\n",
      "{'NAME': 0.013333333333333334, 'CODE': 0.9866666666666667}\n",
      "{'NAME': 0.0, 'CODE': 1.0}\n",
      "{'NAME': 0.0, 'CODE': 1.0}\n",
      "{'NAME': 0.0, 'CODE': 1.0}\n",
      "{'NAME': 0.0, 'CODE': 1.0}\n",
      "{'NAME': 0.0, 'CODE': 1.0}\n",
      "{'NAME': 0.0, 'CODE': 1.0}\n",
      "{'NAME': 0.0, 'CODE': 1.0}\n",
      "{'NAME': 0.0, 'CODE': 1.0}\n",
      "{'NAME': 0.0033333333333333335, 'CODE': 0.9966666666666667}\n",
      "{'NAME': 0.0, 'CODE': 1.0}\n",
      "{'NAME': 0.0, 'CODE': 1.0}\n",
      "{'NAME': 0.0, 'CODE': 1.0}\n",
      "{'NAME': 0.0, 'CODE': 1.0}\n",
      "{'NAME': 0.0, 'CODE': 1.0}\n",
      "{'NAME': 0.0, 'CODE': 1.0}\n",
      "{'NAME': 0.0, 'CODE': 1.0}\n",
      "{'NAME': 0.6533333333333333, 'CODE': 0.3466666666666667}\n",
      "{'NAME': 0.0, 'CODE': 1.0}\n",
      "{'NAME': 0.0, 'CODE': 1.0}\n",
      "{'NAME': 0.05, 'CODE': 0.95}\n",
      "{'NAME': 0.0, 'CODE': 1.0}\n",
      "{'NAME': 0.0, 'CODE': 1.0}\n",
      "{'NAME': 0.0, 'CODE': 1.0}\n",
      "{'NAME': 0.0, 'CODE': 1.0}\n",
      "{'NAME': 0.043333333333333335, 'CODE': 0.9566666666666667}\n",
      "{'NAME': 0.0, 'CODE': 1.0}\n",
      "{'NAME': 0.0, 'CODE': 1.0}\n",
      "{'NAME': 0.0, 'CODE': 1.0}\n",
      "{'NAME': 0.0, 'CODE': 1.0}\n",
      "{'NAME': 0.0, 'CODE': 1.0}\n",
      "{'NAME': 0.15333333333333332, 'CODE': 0.8466666666666667}\n",
      "{'NAME': 0.0, 'CODE': 1.0}\n",
      "{'NAME': 0.0, 'CODE': 1.0}\n",
      "{'NAME': 0.0033333333333333335, 'CODE': 0.9966666666666667}\n",
      "{'NAME': 0.0, 'CODE': 1.0}\n",
      "{'NAME': 0.0, 'CODE': 1.0}\n",
      "{'NAME': 0.01, 'CODE': 0.99}\n",
      "{'NAME': 0.0, 'CODE': 1.0}\n",
      "{'NAME': 0.016666666666666666, 'CODE': 0.9833333333333333}\n",
      "{'NAME': 0.0, 'CODE': 1.0}\n",
      "{'NAME': 0.0, 'CODE': 1.0}\n",
      "{'NAME': 0.0, 'CODE': 1.0}\n",
      "{'NAME': 0.0, 'CODE': 1.0}\n",
      "{'NAME': 0.0, 'CODE': 1.0}\n",
      "{'NAME': 0.0, 'CODE': 1.0}\n",
      "{'NAME': 0.0, 'CODE': 1.0}\n",
      "{'NAME': 0.0, 'CODE': 1.0}\n",
      "{'NAME': 0.0, 'CODE': 1.0}\n",
      "{'NAME': 0.0, 'CODE': 1.0}\n",
      "{'NAME': 0.0, 'CODE': 1.0}\n",
      "{'NAME': 0.0, 'CODE': 1.0}\n",
      "{'NAME': 0.0, 'CODE': 1.0}\n",
      "{'NAME': 0.0, 'CODE': 1.0}\n",
      "{'NAME': 0.0, 'CODE': 1.0}\n",
      "{'NAME': 0.0, 'CODE': 1.0}\n",
      "{'NAME': 0.0, 'CODE': 1.0}\n",
      "{'NAME': 0.0, 'CODE': 1.0}\n",
      "{'NAME': 0.0, 'CODE': 1.0}\n",
      "{'NAME': 0.0, 'CODE': 1.0}\n"
     ]
    }
   ],
   "source": [
    "for column_name, column in query.model.classification.items():\n",
    "    print(column['labels'])\n",
    "    "
   ]
  },
  {
   "cell_type": "code",
   "execution_count": null,
   "metadata": {},
   "outputs": [],
   "source": []
  }
 ],
 "metadata": {
  "kernelspec": {
   "display_name": "Python 3",
   "language": "python",
   "name": "python3"
  },
  "language_info": {
   "codemirror_mode": {
    "name": "ipython",
    "version": 3
   },
   "file_extension": ".py",
   "mimetype": "text/x-python",
   "name": "python",
   "nbconvert_exporter": "python",
   "pygments_lexer": "ipython3",
   "version": "3.6.4"
  }
 },
 "nbformat": 4,
 "nbformat_minor": 2
}
