{
 "cells": [
  {
   "cell_type": "markdown",
   "metadata": {},
   "source": [
    "## Testing the ngram model"
   ]
  },
  {
   "cell_type": "markdown",
   "metadata": {},
   "source": [
    "**We support:**\n",
    "- n_grams of different length\n",
    "- word vectors are weighted with tf-idf\n",
    "\n",
    "**We need:**\n",
    "- To be sure of the columns classes we want (Atm: `FIRSTNAME, NAME, ADDRESS, CITY, DATE, CODE, ID, STRING`)\n",
    "- A way to reduce the number of feature (maybe total number of occurence per feature)\n",
    "- Scale to a column-like vision to enhance the distinction between STRING/FIRSTNAME/NAME/CODE to use redundancy: use number of different items\n",
    "- Add more features: number of words, ending pattern (with voyelle), ratio voyelle/consonne\n",
    "- In this vision, use the column name to confirm or enhance classification.\n"
   ]
  },
  {
   "cell_type": "code",
   "execution_count": 1,
   "metadata": {},
   "outputs": [],
   "source": [
    "import sys\n",
    "sys.path.append('..') #Adding the parent folder to import files from there"
   ]
  },
  {
   "cell_type": "code",
   "execution_count": 2,
   "metadata": {},
   "outputs": [
    {
     "name": "stderr",
     "output_type": "stream",
     "text": [
      "/home/phong/anaconda3/lib/python3.6/site-packages/psycopg2/__init__.py:144: UserWarning: The psycopg2 wheel package will be renamed from release 2.8; in order to keep installing from binary please use \"pip install psycopg2-binary\" instead. For details see: <http://initd.org/psycopg/docs/install.html#binary-install-from-pypi>.\n",
      "  \"\"\")\n",
      "/home/phong/anaconda3/lib/python3.6/site-packages/sklearn/ensemble/weight_boosting.py:29: DeprecationWarning: numpy.core.umath_tests is an internal NumPy module and should not be imported. It will be removed in a future NumPy release.\n",
      "  from numpy.core.umath_tests import inner1d\n"
     ]
    }
   ],
   "source": [
    "import src.loader as loader\n",
    "import src.models.ngram as ngram\n",
    "from ipywidgets import FloatProgress"
   ]
  },
  {
   "cell_type": "code",
   "execution_count": 3,
   "metadata": {},
   "outputs": [],
   "source": [
    "source = [\n",
    "    ('firstname', 'firstnames.firstname', 100),\n",
    "    \n",
    "    ('name', 'names.name', 100),\n",
    "    \n",
    "    ('code', 'patients.gender', 10),\n",
    "    ('code', 'admissions.marital_status', 10),\n",
    "    ('code', 'admissions.religion', 10),\n",
    "    ('code', 'admissions.insurance', 10),\n",
    "    ('code', 'admissions.admission_location', 10),\n",
    "    ('code', 'prescriptions.drug_type', 30),\n",
    "    ('code', 'prescriptions.dose_unit_rx', 20),\n",
    "    \n",
    "    ('date', 'prescriptions.startdate', 90),\n",
    "    ('date', 'admissions.admittime', 10),\n",
    "    \n",
    "    ('id', 'admissions.hadm_id', 10),\n",
    "    ('id', 'admissions.subject_id', 10),\n",
    "    ('id', 'prescriptions.subject_id', 80),\n",
    "    \n",
    "    ('address', 'addresses.road', 100),\n",
    "    \n",
    "    ('city', 'addresses.city', 100)\n",
    "]"
   ]
  },
  {
   "cell_type": "code",
   "execution_count": 4,
   "metadata": {},
   "outputs": [],
   "source": [
    "dataset = []\n",
    "labels = []\n",
    "for column in source:\n",
    "    if len(column) >= 3:\n",
    "        label, column_name, nb_datasets = column\n",
    "    else:\n",
    "        label, column_name, nb_datasets = column, 1\n",
    "    dataset.append((column_name, nb_datasets))\n",
    "    labels += [label.upper()] * nb_datasets"
   ]
  },
  {
   "cell_type": "code",
   "execution_count": 5,
   "metadata": {},
   "outputs": [
    {
     "data": {
      "application/vnd.jupyter.widget-view+json": {
       "model_id": "6a0894638a394844af93d37e9010ba61",
       "version_major": 2,
       "version_minor": 0
      },
      "text/plain": [
       "FloatProgress(value=0.0, max=700.0)"
      ]
     },
     "metadata": {},
     "output_type": "display_data"
    },
    {
     "name": "stdout",
     "output_type": "stream",
     "text": [
      "CPU times: user 856 ms, sys: 63.3 ms, total: 920 ms\n",
      "Wall time: 2.03 s\n"
     ]
    }
   ],
   "source": [
    "%%time\n",
    "\n",
    "max_value = len(labels)\n",
    "bar = FloatProgress(min=0, max=max_value)\n",
    "display(bar)\n",
    "\n",
    "columns = loader.fetch_columns(dataset, dataset_size=100, load_bar=bar)"
   ]
  },
  {
   "cell_type": "code",
   "execution_count": 6,
   "metadata": {},
   "outputs": [],
   "source": [
    "clf = ngram.NGramClassifier()\n",
    "X_train, y_train, X_test, y_test = clf.preprocess(columns, labels)"
   ]
  },
  {
   "cell_type": "code",
   "execution_count": 7,
   "metadata": {},
   "outputs": [
    {
     "name": "stdout",
     "output_type": "stream",
     "text": [
      "(560, 13561)\n",
      "FIRSTNAME           \t27/27\t   100.0% \t(FP:0)\n",
      "NAME                \t23/23\t   100.0% \t(FP:0)\n",
      "CODE                \t23/23\t   100.0% \t(FP:0)\n",
      "DATE                \t15/15\t   100.0% \t(FP:0)\n",
      "ID                  \t16/16\t   100.0% \t(FP:0)\n",
      "ADDRESS             \t15/15\t   100.0% \t(FP:0)\n",
      "CITY                \t21/21\t   100.0% \t(FP:0)\n",
      "SCORE 140/140 :   100.0%\n",
      "CPU times: user 7.24 s, sys: 1.41 s, total: 8.65 s\n",
      "Wall time: 8.68 s\n"
     ]
    }
   ],
   "source": [
    "%%time\n",
    "\n",
    "clf.fit(X_train, y_train, ngram_range=(2, 3))\n",
    "y_pred = clf.predict(X_test)\n",
    "clf.score(y_pred, y_test)"
   ]
  }
 ],
 "metadata": {
  "kernelspec": {
   "display_name": "Python 3",
   "language": "python",
   "name": "python3"
  },
  "language_info": {
   "codemirror_mode": {
    "name": "ipython",
    "version": 3
   },
   "file_extension": ".py",
   "mimetype": "text/x-python",
   "name": "python",
   "nbconvert_exporter": "python",
   "pygments_lexer": "ipython3",
   "version": "3.6.6"
  }
 },
 "nbformat": 4,
 "nbformat_minor": 2
}
